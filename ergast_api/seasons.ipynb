{
 "cells": [
  {
   "cell_type": "markdown",
   "metadata": {
    "application/vnd.databricks.v1+cell": {
     "cellMetadata": {},
     "inputWidgets": {},
     "nuid": "6ffc495d-593f-4e90-b2b9-abd487ef9aad",
     "showTitle": false,
     "tableResultSettingsMap": {},
     "title": ""
    }
   },
   "source": [
    "# Fetch Season Data from Ergast API"
   ]
  },
  {
   "cell_type": "code",
   "execution_count": 0,
   "metadata": {
    "application/vnd.databricks.v1+cell": {
     "cellMetadata": {},
     "inputWidgets": {},
     "nuid": "edc03138-0297-4dde-a4fb-b522fd316345",
     "showTitle": false,
     "tableResultSettingsMap": {},
     "title": ""
    }
   },
   "outputs": [],
   "source": [
    "import requests\n",
    "\n",
    "# initial request to get the total number of seasons\n",
    "url = \"https://api.jolpi.ca/ergast/f1/seasons/\"\n",
    "response = requests.get(url)\n",
    "assert response.status_code == 200\n",
    "data = response.json()\n",
    "num_total = int(data[\"MRData\"][\"total\"])\n",
    "\n",
    "# request to get all seasons\n",
    "url = f\"https://api.jolpi.ca/ergast/f1/seasons/?limit={num_total}&offset=0\"\n",
    "response = requests.get(url)\n",
    "assert response.status_code == 200\n",
    "data = response.json()\n",
    "num_seasons = len(data[\"MRData\"][\"SeasonTable\"][\"Seasons\"])\n",
    "assert num_seasons == num_total"
   ]
  }
 ],
 "metadata": {
  "application/vnd.databricks.v1+notebook": {
   "computePreferences": null,
   "dashboards": [],
   "environmentMetadata": null,
   "inputWidgetPreferences": null,
   "language": "python",
   "notebookMetadata": {
    "pythonIndentUnit": 4
   },
   "notebookName": "seasons",
   "widgets": {}
  },
  "kernelspec": {
   "display_name": "f1-data-engineering-project-NCEWXgEZ-py3.10",
   "language": "python",
   "name": "python3"
  },
  "language_info": {
   "name": "python"
  }
 },
 "nbformat": 4,
 "nbformat_minor": 0
}
