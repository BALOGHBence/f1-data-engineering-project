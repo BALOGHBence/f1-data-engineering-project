{
 "cells": [
  {
   "cell_type": "markdown",
   "metadata": {
    "application/vnd.databricks.v1+cell": {
     "cellMetadata": {},
     "inputWidgets": {},
     "nuid": "6ffc495d-593f-4e90-b2b9-abd487ef9aad",
     "showTitle": false,
     "tableResultSettingsMap": {},
     "title": ""
    }
   },
   "source": [
    "# Fetch Season Data from Ergast API"
   ]
  },
  {
   "cell_type": "code",
   "execution_count": 1,
   "metadata": {
    "application/vnd.databricks.v1+cell": {
     "cellMetadata": {},
     "inputWidgets": {},
     "nuid": "edc03138-0297-4dde-a4fb-b522fd316345",
     "showTitle": false,
     "tableResultSettingsMap": {},
     "title": ""
    }
   },
   "outputs": [],
   "source": [
    "import requests\n",
    "\n",
    "# initial request to get the total number of seasons\n",
    "url = \"https://api.jolpi.ca/ergast/f1/seasons/\"\n",
    "response = requests.get(url)\n",
    "assert response.status_code == 200\n",
    "data = response.json()\n",
    "num_total = int(data[\"MRData\"][\"total\"])"
   ]
  },
  {
   "cell_type": "code",
   "execution_count": 8,
   "metadata": {},
   "outputs": [],
   "source": [
    "# request to get all seasons\n",
    "url = f\"https://api.jolpi.ca/ergast/f1/seasons/?limit={num_total}&offset=0\"\n",
    "response = requests.get(url)\n",
    "assert response.status_code == 200\n",
    "data = response.json()\n",
    "num_seasons = len(data[\"MRData\"][\"SeasonTable\"][\"Seasons\"])\n",
    "assert num_seasons == num_total"
   ]
  },
  {
   "cell_type": "code",
   "execution_count": 9,
   "metadata": {},
   "outputs": [],
   "source": [
    "# request to get all seasons\n",
    "url = \"https://api.jolpi.ca/ergast/f1/seasons/?limit=1&offset=0\"\n",
    "response = requests.get(url)\n",
    "assert response.status_code == 200\n",
    "data = response.json()"
   ]
  },
  {
   "cell_type": "code",
   "execution_count": 11,
   "metadata": {},
   "outputs": [
    {
     "data": {
      "text/plain": [
       "{'xmlns': '',\n",
       " 'series': 'f1',\n",
       " 'url': 'https://api.jolpi.ca/ergast/f1/seasons/',\n",
       " 'limit': '1',\n",
       " 'offset': '0',\n",
       " 'total': '76',\n",
       " 'SeasonTable': {'Seasons': [{'season': '1950',\n",
       "    'url': 'https://en.wikipedia.org/wiki/1950_Formula_One_season'}]}}"
      ]
     },
     "execution_count": 11,
     "metadata": {},
     "output_type": "execute_result"
    }
   ],
   "source": [
    "data[\"MRData\"]"
   ]
  },
  {
   "cell_type": "code",
   "execution_count": 10,
   "metadata": {},
   "outputs": [
    {
     "data": {
      "text/plain": [
       "[{'season': '1950',\n",
       "  'url': 'https://en.wikipedia.org/wiki/1950_Formula_One_season'}]"
      ]
     },
     "execution_count": 10,
     "metadata": {},
     "output_type": "execute_result"
    }
   ],
   "source": [
    "data[\"MRData\"][\"SeasonTable\"][\"Seasons\"]"
   ]
  },
  {
   "cell_type": "code",
   "execution_count": 14,
   "metadata": {},
   "outputs": [
    {
     "data": {
      "text/plain": [
       "[{'season': '2024',\n",
       "  'url': 'https://en.wikipedia.org/wiki/2024_Formula_One_World_Championship'},\n",
       " {'season': '2025',\n",
       "  'url': 'https://en.wikipedia.org/wiki/2025_Formula_One_World_Championship'}]"
      ]
     },
     "execution_count": 14,
     "metadata": {},
     "output_type": "execute_result"
    }
   ],
   "source": [
    "# request to get all seasons\n",
    "url = \"https://api.jolpi.ca/ergast/f1/seasons/?limit=10&offset=74\"\n",
    "response = requests.get(url)\n",
    "assert response.status_code == 200\n",
    "data = response.json()\n",
    "data[\"MRData\"][\"SeasonTable\"][\"Seasons\"]"
   ]
  },
  {
   "cell_type": "markdown",
   "metadata": {},
   "source": [
    "## Results"
   ]
  },
  {
   "cell_type": "code",
   "execution_count": 33,
   "metadata": {},
   "outputs": [
    {
     "name": "stdout",
     "output_type": "stream",
     "text": [
      "25593\n"
     ]
    }
   ],
   "source": [
    "# request to get all seasons\n",
    "url = \"https://api.jolpi.ca/ergast/f1/results/?limit=1&offset=0\"\n",
    "response = requests.get(url)\n",
    "assert response.status_code == 200\n",
    "data = response.json()\n",
    "num_total = int(data[\"MRData\"][\"total\"])\n",
    "print(num_total)"
   ]
  },
  {
   "cell_type": "code",
   "execution_count": 35,
   "metadata": {},
   "outputs": [],
   "source": [
    "# request to get all seasons\n",
    "limit = 100\n",
    "offset = num_total - limit\n",
    "url = f\"https://api.jolpi.ca/ergast/f1/results/?limit={limit}&offset={offset}\"\n",
    "response = requests.get(url)\n",
    "assert response.status_code == 200\n",
    "data = response.json()"
   ]
  },
  {
   "cell_type": "code",
   "execution_count": 36,
   "metadata": {},
   "outputs": [
    {
     "data": {
      "text/plain": [
       "6"
      ]
     },
     "execution_count": 36,
     "metadata": {},
     "output_type": "execute_result"
    }
   ],
   "source": [
    "len(data[\"MRData\"][\"RaceTable\"][\"Races\"])"
   ]
  },
  {
   "cell_type": "code",
   "execution_count": 49,
   "metadata": {},
   "outputs": [
    {
     "data": {
      "text/plain": [
       "20"
      ]
     },
     "execution_count": 49,
     "metadata": {},
     "output_type": "execute_result"
    }
   ],
   "source": [
    "len(data[\"MRData\"][\"RaceTable\"][\"Races\"][1][\"Results\"])"
   ]
  },
  {
   "cell_type": "code",
   "execution_count": 38,
   "metadata": {},
   "outputs": [
    {
     "data": {
      "text/plain": [
       "[{'number': '10',\n",
       "  'position': '20',\n",
       "  'positionText': 'R',\n",
       "  'points': '0',\n",
       "  'Driver': {'driverId': 'gasly',\n",
       "   'permanentNumber': '10',\n",
       "   'code': 'GAS',\n",
       "   'url': 'http://en.wikipedia.org/wiki/Pierre_Gasly',\n",
       "   'givenName': 'Pierre',\n",
       "   'familyName': 'Gasly',\n",
       "   'dateOfBirth': '1996-02-07',\n",
       "   'nationality': 'French'},\n",
       "  'Constructor': {'constructorId': 'alpine',\n",
       "   'url': 'http://en.wikipedia.org/wiki/Alpine_F1_Team',\n",
       "   'name': 'Alpine F1 Team',\n",
       "   'nationality': 'French'},\n",
       "  'grid': '9',\n",
       "  'laps': '0',\n",
       "  'status': 'Retired'}]"
      ]
     },
     "execution_count": 38,
     "metadata": {},
     "output_type": "execute_result"
    }
   ],
   "source": [
    "data[\"MRData\"][\"RaceTable\"][\"Races\"][0][\"Results\"]"
   ]
  },
  {
   "cell_type": "markdown",
   "metadata": {},
   "source": [
    "## Drivers"
   ]
  },
  {
   "cell_type": "code",
   "execution_count": 50,
   "metadata": {},
   "outputs": [
    {
     "name": "stdout",
     "output_type": "stream",
     "text": [
      "864\n"
     ]
    }
   ],
   "source": [
    "# request to get all seasons\n",
    "url = \"https://api.jolpi.ca/ergast/f1/drivers/?limit=1&offset=0\"\n",
    "response = requests.get(url)\n",
    "assert response.status_code == 200\n",
    "data = response.json()\n",
    "num_total = int(data[\"MRData\"][\"total\"])\n",
    "print(num_total)"
   ]
  },
  {
   "cell_type": "code",
   "execution_count": 61,
   "metadata": {},
   "outputs": [],
   "source": [
    "# request to get all seasons\n",
    "limit = 25\n",
    "offset = 0 #num_total - limit\n",
    "url = f\"https://api.jolpi.ca/ergast/f1/drivers/?limit={limit}&offset={offset}\"\n",
    "response = requests.get(url)\n",
    "assert response.status_code == 200\n",
    "data = response.json()"
   ]
  },
  {
   "cell_type": "code",
   "execution_count": 62,
   "metadata": {},
   "outputs": [
    {
     "data": {
      "text/plain": [
       "['Drivers']"
      ]
     },
     "execution_count": 62,
     "metadata": {},
     "output_type": "execute_result"
    }
   ],
   "source": [
    "list(data[\"MRData\"]['DriverTable'].keys())"
   ]
  },
  {
   "cell_type": "code",
   "execution_count": 63,
   "metadata": {},
   "outputs": [
    {
     "data": {
      "text/plain": [
       "[{'driverId': 'abate',\n",
       "  'url': 'http://en.wikipedia.org/wiki/Carlo_Mario_Abate',\n",
       "  'givenName': 'Carlo',\n",
       "  'familyName': 'Abate',\n",
       "  'dateOfBirth': '1932-07-10',\n",
       "  'nationality': 'Italian'},\n",
       " {'driverId': 'abecassis',\n",
       "  'url': 'http://en.wikipedia.org/wiki/George_Abecassis',\n",
       "  'givenName': 'George',\n",
       "  'familyName': 'Abecassis',\n",
       "  'dateOfBirth': '1913-03-21',\n",
       "  'nationality': 'British'},\n",
       " {'driverId': 'acheson',\n",
       "  'url': 'http://en.wikipedia.org/wiki/Kenny_Acheson',\n",
       "  'givenName': 'Kenny',\n",
       "  'familyName': 'Acheson',\n",
       "  'dateOfBirth': '1957-11-27',\n",
       "  'nationality': 'British'},\n",
       " {'driverId': 'adams',\n",
       "  'url': 'http://en.wikipedia.org/wiki/Philippe_Adams',\n",
       "  'givenName': 'Philippe',\n",
       "  'familyName': 'Adams',\n",
       "  'dateOfBirth': '1969-11-19',\n",
       "  'nationality': 'Belgian'},\n",
       " {'driverId': 'ader',\n",
       "  'url': 'http://en.wikipedia.org/wiki/Walt_Ader',\n",
       "  'givenName': 'Walt',\n",
       "  'familyName': 'Ader',\n",
       "  'dateOfBirth': '1913-12-15',\n",
       "  'nationality': 'American'},\n",
       " {'driverId': 'adolff',\n",
       "  'url': 'http://en.wikipedia.org/wiki/Kurt_Adolff',\n",
       "  'givenName': 'Kurt',\n",
       "  'familyName': 'Adolff',\n",
       "  'dateOfBirth': '1921-11-05',\n",
       "  'nationality': 'German'},\n",
       " {'driverId': 'agabashian',\n",
       "  'url': 'http://en.wikipedia.org/wiki/Fred_Agabashian',\n",
       "  'givenName': 'Fred',\n",
       "  'familyName': 'Agabashian',\n",
       "  'dateOfBirth': '1913-08-21',\n",
       "  'nationality': 'American'},\n",
       " {'driverId': 'ahrens',\n",
       "  'url': 'http://en.wikipedia.org/wiki/Kurt_Ahrens,_Jr.',\n",
       "  'givenName': 'Kurt',\n",
       "  'familyName': 'Ahrens',\n",
       "  'dateOfBirth': '1940-04-19',\n",
       "  'nationality': 'German'},\n",
       " {'driverId': 'aitken',\n",
       "  'permanentNumber': '89',\n",
       "  'code': 'AIT',\n",
       "  'url': 'http://en.wikipedia.org/wiki/Jack_Aitken',\n",
       "  'givenName': 'Jack',\n",
       "  'familyName': 'Aitken',\n",
       "  'dateOfBirth': '1995-09-23',\n",
       "  'nationality': 'British'},\n",
       " {'driverId': 'albers',\n",
       "  'code': 'ALB',\n",
       "  'url': 'http://en.wikipedia.org/wiki/Christijan_Albers',\n",
       "  'givenName': 'Christijan',\n",
       "  'familyName': 'Albers',\n",
       "  'dateOfBirth': '1979-04-16',\n",
       "  'nationality': 'Dutch'},\n",
       " {'driverId': 'albon',\n",
       "  'permanentNumber': '23',\n",
       "  'code': 'ALB',\n",
       "  'url': 'http://en.wikipedia.org/wiki/Alexander_Albon',\n",
       "  'givenName': 'Alexander',\n",
       "  'familyName': 'Albon',\n",
       "  'dateOfBirth': '1996-03-23',\n",
       "  'nationality': 'Thai'},\n",
       " {'driverId': 'alboreto',\n",
       "  'url': 'http://en.wikipedia.org/wiki/Michele_Alboreto',\n",
       "  'givenName': 'Michele',\n",
       "  'familyName': 'Alboreto',\n",
       "  'dateOfBirth': '1956-12-23',\n",
       "  'nationality': 'Italian'},\n",
       " {'driverId': 'alesi',\n",
       "  'url': 'http://en.wikipedia.org/wiki/Jean_Alesi',\n",
       "  'givenName': 'Jean',\n",
       "  'familyName': 'Alesi',\n",
       "  'dateOfBirth': '1964-06-11',\n",
       "  'nationality': 'French'},\n",
       " {'driverId': 'alguersuari',\n",
       "  'code': 'ALG',\n",
       "  'url': 'http://en.wikipedia.org/wiki/Jaime_Alguersuari',\n",
       "  'givenName': 'Jaime',\n",
       "  'familyName': 'Alguersuari',\n",
       "  'dateOfBirth': '1990-03-23',\n",
       "  'nationality': 'Spanish'},\n",
       " {'driverId': 'alliot',\n",
       "  'url': 'http://en.wikipedia.org/wiki/Philippe_Alliot',\n",
       "  'givenName': 'Philippe',\n",
       "  'familyName': 'Alliot',\n",
       "  'dateOfBirth': '1954-07-27',\n",
       "  'nationality': 'French'},\n",
       " {'driverId': 'allison',\n",
       "  'url': 'http://en.wikipedia.org/wiki/Cliff_Allison',\n",
       "  'givenName': 'Cliff',\n",
       "  'familyName': 'Allison',\n",
       "  'dateOfBirth': '1932-02-08',\n",
       "  'nationality': 'British'},\n",
       " {'driverId': 'alonso',\n",
       "  'permanentNumber': '14',\n",
       "  'code': 'ALO',\n",
       "  'url': 'http://en.wikipedia.org/wiki/Fernando_Alonso',\n",
       "  'givenName': 'Fernando',\n",
       "  'familyName': 'Alonso',\n",
       "  'dateOfBirth': '1981-07-29',\n",
       "  'nationality': 'Spanish'},\n",
       " {'driverId': 'amati',\n",
       "  'url': 'http://en.wikipedia.org/wiki/Giovanna_Amati',\n",
       "  'givenName': 'Giovanna',\n",
       "  'familyName': 'Amati',\n",
       "  'dateOfBirth': '1959-07-20',\n",
       "  'nationality': 'Italian'},\n",
       " {'driverId': 'george_amick',\n",
       "  'url': 'http://en.wikipedia.org/wiki/George_Amick',\n",
       "  'givenName': 'George',\n",
       "  'familyName': 'Amick',\n",
       "  'dateOfBirth': '1924-10-24',\n",
       "  'nationality': 'American'},\n",
       " {'driverId': 'amick',\n",
       "  'url': 'http://en.wikipedia.org/wiki/Red_Amick',\n",
       "  'givenName': 'Red',\n",
       "  'familyName': 'Amick',\n",
       "  'dateOfBirth': '1929-01-19',\n",
       "  'nationality': 'American'},\n",
       " {'driverId': 'amon',\n",
       "  'url': 'http://en.wikipedia.org/wiki/Chris_Amon',\n",
       "  'givenName': 'Chris',\n",
       "  'familyName': 'Amon',\n",
       "  'dateOfBirth': '1943-07-20',\n",
       "  'nationality': 'New Zealander'},\n",
       " {'driverId': 'anderson',\n",
       "  'url': 'http://en.wikipedia.org/wiki/Bob_Anderson_(racing_driver)',\n",
       "  'givenName': 'Bob',\n",
       "  'familyName': 'Anderson',\n",
       "  'dateOfBirth': '1931-05-19',\n",
       "  'nationality': 'British'},\n",
       " {'driverId': 'andersson',\n",
       "  'url': 'http://en.wikipedia.org/wiki/Conny_Andersson_(racing_driver)',\n",
       "  'givenName': 'Conny',\n",
       "  'familyName': 'Andersson',\n",
       "  'dateOfBirth': '1939-12-28',\n",
       "  'nationality': 'Swedish'},\n",
       " {'driverId': 'mario_andretti',\n",
       "  'url': 'http://en.wikipedia.org/wiki/Mario_Andretti',\n",
       "  'givenName': 'Mario',\n",
       "  'familyName': 'Andretti',\n",
       "  'dateOfBirth': '1940-02-28',\n",
       "  'nationality': 'American'},\n",
       " {'driverId': 'andretti',\n",
       "  'url': 'http://en.wikipedia.org/wiki/Michael_Andretti',\n",
       "  'givenName': 'Michael',\n",
       "  'familyName': 'Andretti',\n",
       "  'dateOfBirth': '1962-10-05',\n",
       "  'nationality': 'American'}]"
      ]
     },
     "execution_count": 63,
     "metadata": {},
     "output_type": "execute_result"
    }
   ],
   "source": [
    "data[\"MRData\"]['DriverTable']['Drivers']"
   ]
  }
 ],
 "metadata": {
  "application/vnd.databricks.v1+notebook": {
   "computePreferences": null,
   "dashboards": [],
   "environmentMetadata": null,
   "inputWidgetPreferences": null,
   "language": "python",
   "notebookMetadata": {
    "pythonIndentUnit": 4
   },
   "notebookName": "seasons",
   "widgets": {}
  },
  "kernelspec": {
   "display_name": "Python 3",
   "language": "python",
   "name": "python3"
  },
  "language_info": {
   "codemirror_mode": {
    "name": "ipython",
    "version": 3
   },
   "file_extension": ".py",
   "mimetype": "text/x-python",
   "name": "python",
   "nbconvert_exporter": "python",
   "pygments_lexer": "ipython3",
   "version": "3.12.7"
  }
 },
 "nbformat": 4,
 "nbformat_minor": 0
}
