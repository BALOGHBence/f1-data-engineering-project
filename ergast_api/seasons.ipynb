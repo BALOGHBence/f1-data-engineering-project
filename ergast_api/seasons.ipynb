{
 "cells": [
  {
   "cell_type": "markdown",
   "metadata": {},
   "source": [
    "# Fetch Sesion Data from Ehrgast API"
   ]
  },
  {
   "cell_type": "code",
   "execution_count": 1,
   "metadata": {},
   "outputs": [],
   "source": [
    "import requests\n",
    "\n",
    "# initial request to get the total number of seasons\n",
    "url = \"https://api.jolpi.ca/ergast/f1/seasons/\"\n",
    "response = requests.get(url)\n",
    "assert response.status_code == 200\n",
    "data = response.json()\n",
    "num_total = int(data[\"MRData\"][\"total\"])\n",
    "\n",
    "# request to get all seasons\n",
    "url = f\"https://api.jolpi.ca/ergast/f1/seasons/?limit={num_total}&offset=0\"\n",
    "response = requests.get(url)\n",
    "assert response.status_code == 200\n",
    "data = response.json()\n",
    "num_seasons = len(data[\"MRData\"][\"SeasonTable\"][\"Seasons\"])\n",
    "assert num_seasons == num_total"
   ]
  }
 ],
 "metadata": {
  "kernelspec": {
   "display_name": "f1-data-engineering-project-NCEWXgEZ-py3.10",
   "language": "python",
   "name": "python3"
  },
  "language_info": {
   "codemirror_mode": {
    "name": "ipython",
    "version": 3
   },
   "file_extension": ".py",
   "mimetype": "text/x-python",
   "name": "python",
   "nbconvert_exporter": "python",
   "pygments_lexer": "ipython3",
   "version": "3.10.11"
  }
 },
 "nbformat": 4,
 "nbformat_minor": 2
}
