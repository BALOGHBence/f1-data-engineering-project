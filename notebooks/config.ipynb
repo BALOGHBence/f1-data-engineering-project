{
 "cells": [
  {
   "cell_type": "code",
   "execution_count": 0,
   "metadata": {
    "application/vnd.databricks.v1+cell": {
     "cellMetadata": {
      "byteLimit": 2048000,
      "rowLimit": 10000
     },
     "inputWidgets": {},
     "nuid": "3bcdc7cc-586d-4fb3-83de-96ebb258e1ca",
     "showTitle": false,
     "tableResultSettingsMap": {},
     "title": ""
    }
   },
   "outputs": [],
   "source": [
    "dbutils.widgets.text(\"env\", \"dev\", \"Environment\")\n",
    "\n",
    "env = dbutils.widgets.get(\"env\")"
   ]
  },
  {
   "cell_type": "code",
   "execution_count": 0,
   "metadata": {
    "application/vnd.databricks.v1+cell": {
     "cellMetadata": {
      "byteLimit": 2048000,
      "rowLimit": 10000
     },
     "inputWidgets": {},
     "nuid": "8de701d9-a924-40b6-b8c8-f05cfc869f6e",
     "showTitle": false,
     "tableResultSettingsMap": {},
     "title": ""
    }
   },
   "outputs": [],
   "source": [
    "catalog_name = \"bence-balogh-catalog\"\n",
    "db_name = f\"f1-{env}\""
   ]
  },
  {
   "cell_type": "code",
   "execution_count": 0,
   "metadata": {
    "application/vnd.databricks.v1+cell": {
     "cellMetadata": {
      "byteLimit": 2048000,
      "rowLimit": 10000
     },
     "inputWidgets": {},
     "nuid": "e2d126ea-fb5b-4aca-9af3-b4c44eed0005",
     "showTitle": false,
     "tableResultSettingsMap": {},
     "title": ""
    }
   },
   "outputs": [],
   "source": [
    "#spark.sql(\"CREATE CATALOG IF NOT EXISTS `bence-balogh-catalog`\")\n",
    "spark.sql(f\"USE CATALOG `{catalog_name}`\")\n",
    "spark.sql(f\"CREATE DATABASE IF NOT EXISTS `{catalog_name}`.`{db_name}`\")\n",
    "spark.sql(f\"USE `{catalog_name}`.`{db_name}`\");"
   ]
  },
  {
   "cell_type": "code",
   "execution_count": 0,
   "metadata": {
    "application/vnd.databricks.v1+cell": {
     "cellMetadata": {
      "byteLimit": 2048000,
      "rowLimit": 10000
     },
     "inputWidgets": {},
     "nuid": "fe91701f-b1c2-4a34-b166-ff3fb22a0960",
     "showTitle": false,
     "tableResultSettingsMap": {},
     "title": ""
    }
   },
   "outputs": [],
   "source": [
    "spark.sql(f\"CREATE VOLUME IF NOT EXISTS `files`\")\n",
    "raw_data_folder_path = f\"/Volumes/bence-balogh-catalog/f1-{env}/files/raw/\"\n",
    "#dbutils.fs.mkdirs(raw_data_folder_path)"
   ]
  },
  {
   "cell_type": "code",
   "execution_count": 0,
   "metadata": {
    "application/vnd.databricks.v1+cell": {
     "cellMetadata": {
      "byteLimit": 2048000,
      "rowLimit": 10000
     },
     "inputWidgets": {},
     "nuid": "b738df37-bc20-4c5e-ac3b-a8e8d911f972",
     "showTitle": false,
     "tableResultSettingsMap": {},
     "title": ""
    }
   },
   "outputs": [],
   "source": [
    "# Get current catalog\n",
    "current_catalog = spark.sql(\"SELECT current_catalog()\").collect()[0][0]\n",
    "print(\"Using catalog \", current_catalog)\n",
    "\n",
    "# Get current database (schema)\n",
    "current_database = spark.sql(\"SELECT current_database()\").collect()[0][0]\n",
    "print(\"Using database \", current_database)"
   ]
  },
  {
   "cell_type": "markdown",
   "metadata": {
    "application/vnd.databricks.v1+cell": {
     "cellMetadata": {
      "byteLimit": 2048000,
      "rowLimit": 10000
     },
     "inputWidgets": {},
     "nuid": "d82febd7-2e3c-4666-a0bc-500a423576ce",
     "showTitle": false,
     "tableResultSettingsMap": {},
     "title": ""
    }
   },
   "source": [
    "## Granting Access for App Service Principal"
   ]
  },
  {
   "cell_type": "code",
   "execution_count": 0,
   "metadata": {
    "application/vnd.databricks.v1+cell": {
     "cellMetadata": {
      "byteLimit": 2048000,
      "rowLimit": 10000
     },
     "inputWidgets": {},
     "nuid": "2ccaa9fd-6bd4-42f7-b336-8e832d8dd1c8",
     "showTitle": false,
     "tableResultSettingsMap": {},
     "title": ""
    }
   },
   "outputs": [],
   "source": [
    "APP_SERVICE_PRINCIPAL = \"5af8a8dd-fb4e-4e09-ae42-0c2a2d76f3ac\"\n",
    "APP_FOLDER_PATH = \"/Volumes/bence-balogh-catalog/f1-dev/files/app/\"\n",
    "VOLUME_NAME = \"files\"\n",
    "\n",
    "# spark.sql(f\"GRANT USE CATALOG ON CATALOG `{catalog_name}` TO `{APP_SERVICE_PRINCIPAL}`\")\n",
    "# spark.sql(f\"GRANT USE SCHEMA ON SCHEMA `{catalog_name}`.`{db_name}` TO `{APP_SERVICE_PRINCIPAL}`\")\n",
    "# spark.sql(f\"GRANT READ VOLUME ON VOLUME `{catalog_name}`.`{db_name}`.`{VOLUME_NAME}` TO `{APP_SERVICE_PRINCIPAL}`\")"
   ]
  },
  {
   "cell_type": "code",
   "execution_count": 0,
   "metadata": {
    "application/vnd.databricks.v1+cell": {
     "cellMetadata": {
      "byteLimit": 2048000,
      "implicitDf": true,
      "rowLimit": 10000
     },
     "inputWidgets": {},
     "nuid": "96e651e2-b45f-466d-8f06-78ee12f524a3",
     "showTitle": false,
     "tableResultSettingsMap": {},
     "title": ""
    }
   },
   "outputs": [],
   "source": [
    "%sql\n",
    "-- GRANT MANAGE ON CATALOG `bence-balogh-catalog` TO `bence.balogh@datapao.com`;"
   ]
  }
 ],
 "metadata": {
  "application/vnd.databricks.v1+notebook": {
   "computePreferences": null,
   "dashboards": [],
   "environmentMetadata": {
    "base_environment": "",
    "environment_version": "2"
   },
   "inputWidgetPreferences": null,
   "language": "python",
   "notebookMetadata": {
    "mostRecentlyExecutedCommandWithImplicitDF": {
     "commandId": 7207641851694894,
     "dataframes": [
      "_sqldf"
     ]
    },
    "pythonIndentUnit": 4
   },
   "notebookName": "config",
   "widgets": {
    "env": {
     "currentValue": "dev",
     "nuid": "81a6dafd-3ff5-4068-8e78-f5371d03d743",
     "typedWidgetInfo": {
      "autoCreated": false,
      "defaultValue": "dev",
      "label": "Environment",
      "name": "env",
      "options": {
       "widgetDisplayType": "Text",
       "validationRegex": null
      },
      "parameterDataType": "String"
     },
     "widgetInfo": {
      "widgetType": "text",
      "defaultValue": "dev",
      "label": "Environment",
      "name": "env",
      "options": {
       "widgetType": "text",
       "autoCreated": null,
       "validationRegex": null
      }
     }
    }
   }
  },
  "language_info": {
   "name": "python"
  }
 },
 "nbformat": 4,
 "nbformat_minor": 0
}
