{
 "cells": [
  {
   "cell_type": "markdown",
   "metadata": {
    "application/vnd.databricks.v1+cell": {
     "cellMetadata": {
      "byteLimit": 2048000,
      "rowLimit": 10000
     },
     "inputWidgets": {},
     "nuid": "163becbd-70f9-4114-a895-dbf6f76e770f",
     "showTitle": false,
     "tableResultSettingsMap": {},
     "title": ""
    }
   },
   "source": [
    "# Ingest Races Data"
   ]
  },
  {
   "cell_type": "code",
   "execution_count": 0,
   "metadata": {
    "application/vnd.databricks.v1+cell": {
     "cellMetadata": {
      "byteLimit": 2048000,
      "rowLimit": 10000
     },
     "inputWidgets": {},
     "nuid": "bdece63f-4d06-4174-adec-16d093eb5642",
     "showTitle": false,
     "tableResultSettingsMap": {},
     "title": ""
    }
   },
   "outputs": [],
   "source": [
    "dbutils.widgets.text(\"env\", \"dev\", \"Environment\")\n",
    "\n",
    "env = dbutils.widgets.get(\"env\")"
   ]
  },
  {
   "cell_type": "code",
   "execution_count": 0,
   "metadata": {
    "application/vnd.databricks.v1+cell": {
     "cellMetadata": {
      "byteLimit": 2048000,
      "rowLimit": 10000
     },
     "inputWidgets": {},
     "nuid": "4cb03006-ff97-4fb9-8249-31be950a433c",
     "showTitle": false,
     "tableResultSettingsMap": {},
     "title": ""
    }
   },
   "outputs": [],
   "source": [
    "%run ../config $env=$env"
   ]
  },
  {
   "cell_type": "code",
   "execution_count": 0,
   "metadata": {
    "application/vnd.databricks.v1+cell": {
     "cellMetadata": {},
     "inputWidgets": {},
     "nuid": "f22c8d3a-797d-41ed-8d1e-1a1d214ee662",
     "showTitle": false,
     "tableResultSettingsMap": {},
     "title": ""
    }
   },
   "outputs": [],
   "source": [
    "%run ../utils"
   ]
  },
  {
   "cell_type": "code",
   "execution_count": 0,
   "metadata": {
    "application/vnd.databricks.v1+cell": {
     "cellMetadata": {
      "byteLimit": 2048000,
      "rowLimit": 10000
     },
     "inputWidgets": {},
     "nuid": "10c0a412-f181-4ece-8fdc-7b1f4f1750f3",
     "showTitle": false,
     "tableResultSettingsMap": {},
     "title": ""
    }
   },
   "outputs": [],
   "source": [
    "csv_file_path = raw_data_folder_path + \"races.csv\"\n",
    "\n",
    "df_races = (\n",
    "    spark.read.format(\"csv\")\n",
    "    .option(\"header\", True)\n",
    "    .option(\"inferSchema\", True)\n",
    "    .load(csv_file_path)\n",
    ")\n",
    "\n",
    "df_races.display() if env == \"dev\" else None"
   ]
  },
  {
   "cell_type": "code",
   "execution_count": 0,
   "metadata": {
    "application/vnd.databricks.v1+cell": {
     "cellMetadata": {
      "byteLimit": 2048000,
      "rowLimit": 10000
     },
     "inputWidgets": {},
     "nuid": "a849fd5e-25af-4228-a599-5137234665f2",
     "showTitle": false,
     "tableResultSettingsMap": {},
     "title": ""
    }
   },
   "outputs": [],
   "source": [
    "import pyspark.sql.functions as F\n",
    "\n",
    "DATE_FORMAT_SPECIFIER = \"yyyy-MM-dd\"\n",
    "\n",
    "df_races_formatted = (\n",
    "    df_races\n",
    "    .withColumnRenamed(\"raceId\", \"race_id\")\n",
    "    .withColumnRenamed(\"name\", \"race_name\")\n",
    "    .withColumnRenamed(\"CircuitId\", \"circuit_id\")\n",
    "    .withColumn(\"ingestion_timestamp\", F.current_timestamp())\n",
    "    .drop(\"url\")\n",
    ")\n",
    "\n",
    "date_cols = [\"quali_date\", \"sprint_date\"] + [f\"fp{i}_date\" for i in range(1, 4)]\n",
    "time_cols = [\"time\", \"quali_time\", \"sprint_time\"] + [f\"fp{i}_time\" for i in range(1, 4)]\n",
    "\n",
    "for col_name in date_cols + time_cols:\n",
    "    df_races_formatted = df_races_formatted.withColumn(\n",
    "        col_name,\n",
    "        F.when(F.col(col_name) == F.lit(r\"\\N\"), F.lit(None)).otherwise(F.col(col_name)),\n",
    "    )\n",
    "\n",
    "for date_col in date_cols:\n",
    "    df_races_formatted = df_races_formatted.withColumn(\n",
    "        date_col, F.to_date(F.col(date_col), DATE_FORMAT_SPECIFIER)\n",
    "    )\n",
    "\n",
    "df_races_formatted.display() if env == \"dev\" else None"
   ]
  },
  {
   "cell_type": "code",
   "execution_count": 0,
   "metadata": {
    "application/vnd.databricks.v1+cell": {
     "cellMetadata": {},
     "inputWidgets": {},
     "nuid": "e4f8e123-fc81-4478-9fec-6d3a3f7826af",
     "showTitle": false,
     "tableResultSettingsMap": {},
     "title": ""
    }
   },
   "outputs": [],
   "source": [
    "df_races_formatted = fillna_str(df_races_formatted, r\"\\N\")\n",
    "\n",
    "df_races_formatted.display()  if env == \"dev\" else None"
   ]
  },
  {
   "cell_type": "code",
   "execution_count": 0,
   "metadata": {
    "application/vnd.databricks.v1+cell": {
     "cellMetadata": {
      "byteLimit": 2048000,
      "rowLimit": 10000
     },
     "inputWidgets": {},
     "nuid": "5526f9d6-8aa0-4e6d-a632-7787901d6b5f",
     "showTitle": false,
     "tableResultSettingsMap": {},
     "title": ""
    }
   },
   "outputs": [],
   "source": [
    "df_races_transformed = (\n",
    "    df_races_formatted.withColumn(\"time_split\", F.split(F.col(\"time\"), \":\"))\n",
    "    .withColumn(\n",
    "        \"race_timestamp\",\n",
    "        F.make_timestamp(\n",
    "            F.date_format(F.col(\"date\"), \"yyyy\"),\n",
    "            F.date_format(F.col(\"date\"), \"MM\"),\n",
    "            F.date_format(F.col(\"date\"), \"dd\"),\n",
    "            F.col(\"time_split\").getItem(0),\n",
    "            F.col(\"time_split\").getItem(1),\n",
    "            F.col(\"time_split\").getItem(2),\n",
    "        ),\n",
    "    )\n",
    "    .drop(\"time_split\")\n",
    ")\n",
    "\n",
    "df_races_transformed.display() if env == \"dev\" else None"
   ]
  },
  {
   "cell_type": "code",
   "execution_count": 0,
   "metadata": {
    "application/vnd.databricks.v1+cell": {
     "cellMetadata": {
      "byteLimit": 2048000,
      "rowLimit": 10000
     },
     "inputWidgets": {},
     "nuid": "015dd2f4-4bd5-4776-883f-037bcbd93874",
     "showTitle": false,
     "tableResultSettingsMap": {},
     "title": ""
    }
   },
   "outputs": [],
   "source": [
    "df_races_transformed.write.format(\"delta\").saveAsTable(\"bronze_tbl_races\", mode=\"overwrite\")"
   ]
  }
 ],
 "metadata": {
  "application/vnd.databricks.v1+notebook": {
   "computePreferences": null,
   "dashboards": [],
   "environmentMetadata": {
    "base_environment": "",
    "environment_version": "1"
   },
   "inputWidgetPreferences": null,
   "language": "python",
   "notebookMetadata": {
    "mostRecentlyExecutedCommandWithImplicitDF": {
     "commandId": 6276878124565161,
     "dataframes": [
      "_sqldf"
     ]
    },
    "pythonIndentUnit": 4
   },
   "notebookName": "2. Ingest Races File",
   "widgets": {
    "env": {
     "currentValue": "dev",
     "nuid": "aefa94c5-2888-41f9-87e8-32143431f3da",
     "typedWidgetInfo": {
      "autoCreated": false,
      "defaultValue": "dev",
      "label": "Environment",
      "name": "env",
      "options": {
       "widgetDisplayType": "Text",
       "validationRegex": null
      },
      "parameterDataType": "String"
     },
     "widgetInfo": {
      "widgetType": "text",
      "defaultValue": "dev",
      "label": "Environment",
      "name": "env",
      "options": {
       "widgetType": "text",
       "autoCreated": null,
       "validationRegex": null
      }
     }
    }
   }
  },
  "language_info": {
   "name": "python"
  }
 },
 "nbformat": 4,
 "nbformat_minor": 0
}
