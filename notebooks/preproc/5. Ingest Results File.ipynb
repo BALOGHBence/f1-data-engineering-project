{
 "cells": [
  {
   "cell_type": "markdown",
   "metadata": {
    "application/vnd.databricks.v1+cell": {
     "cellMetadata": {
      "byteLimit": 2048000,
      "rowLimit": 10000
     },
     "inputWidgets": {},
     "nuid": "163becbd-70f9-4114-a895-dbf6f76e770f",
     "showTitle": false,
     "tableResultSettingsMap": {},
     "title": ""
    }
   },
   "source": [
    "# Ingest race results data"
   ]
  },
  {
   "cell_type": "code",
   "execution_count": 0,
   "metadata": {
    "application/vnd.databricks.v1+cell": {
     "cellMetadata": {
      "byteLimit": 2048000,
      "rowLimit": 10000
     },
     "inputWidgets": {},
     "nuid": "8418cec1-3558-4463-8f9f-644b0856fa05",
     "showTitle": false,
     "tableResultSettingsMap": {},
     "title": ""
    }
   },
   "outputs": [],
   "source": [
    "dbutils.widgets.text(\"env\", \"dev\", \"Environment\")\n",
    "\n",
    "env = dbutils.widgets.get(\"env\")"
   ]
  },
  {
   "cell_type": "code",
   "execution_count": 0,
   "metadata": {
    "application/vnd.databricks.v1+cell": {
     "cellMetadata": {
      "byteLimit": 2048000,
      "rowLimit": 10000
     },
     "inputWidgets": {},
     "nuid": "9c187ce6-0c44-4b78-8d41-f2707bb89dd8",
     "showTitle": false,
     "tableResultSettingsMap": {},
     "title": ""
    }
   },
   "outputs": [],
   "source": [
    "%run ../config $env=$env"
   ]
  },
  {
   "cell_type": "code",
   "execution_count": 0,
   "metadata": {
    "application/vnd.databricks.v1+cell": {
     "cellMetadata": {
      "byteLimit": 2048000,
      "rowLimit": 10000
     },
     "inputWidgets": {},
     "nuid": "7658b61d-e74a-4b63-a38d-53d3bc640839",
     "showTitle": false,
     "tableResultSettingsMap": {},
     "title": ""
    }
   },
   "outputs": [],
   "source": [
    "%run ../utils"
   ]
  },
  {
   "cell_type": "code",
   "execution_count": 0,
   "metadata": {
    "application/vnd.databricks.v1+cell": {
     "cellMetadata": {
      "byteLimit": 2048000,
      "rowLimit": 10000
     },
     "inputWidgets": {},
     "nuid": "10c0a412-f181-4ece-8fdc-7b1f4f1750f3",
     "showTitle": false,
     "tableResultSettingsMap": {},
     "title": ""
    }
   },
   "outputs": [],
   "source": [
    "csv_file_path = raw_data_folder_path + \"results.csv\"\n",
    "\n",
    "df = (\n",
    "    spark.read.format(\"csv\")\n",
    "    .option(\"header\", True)\n",
    "    .option(\"inferSchema\", True)\n",
    "    .load(csv_file_path)\n",
    ")\n",
    "\n",
    "df.display() if env == \"dev\" else None"
   ]
  },
  {
   "cell_type": "code",
   "execution_count": 0,
   "metadata": {
    "application/vnd.databricks.v1+cell": {
     "cellMetadata": {
      "byteLimit": 2048000,
      "rowLimit": 10000
     },
     "inputWidgets": {},
     "nuid": "5526f9d6-8aa0-4e6d-a632-7787901d6b5f",
     "showTitle": false,
     "tableResultSettingsMap": {},
     "title": ""
    }
   },
   "outputs": [],
   "source": [
    "import pyspark.sql.functions as F\n",
    "\n",
    "df_transformed = (\n",
    "    df\n",
    "    .withColumnRenamed(\"raceId\", \"race_id\")\n",
    "    .withColumnRenamed(\"resultId\", \"result_id\")\n",
    "    .withColumnRenamed(\"driverId\", \"driver_id\")\n",
    "    .withColumnRenamed(\"constructorId\", \"constructor_id\")\n",
    "    .withColumnRenamed(\"fastestLap\", \"fastest_lap\")\n",
    "    .withColumnRenamed(\"fastestLapSpeed\", \"fastest_lap_speed\")\n",
    "    .withColumnRenamed(\"fastestLapTime\", \"fastest_lap_time\")\n",
    "    .withColumnRenamed(\"positionOrder\", \"position_order\")\n",
    "    .withColumnRenamed(\"positionText\", \"position_text\")\n",
    "    .withColumn(\"ingestion_date\", F.current_timestamp())\n",
    "    .drop(\"statusId\")\n",
    ")\n",
    "\n",
    "df_transformed.display()  if env == \"dev\" else None"
   ]
  },
  {
   "cell_type": "code",
   "execution_count": 0,
   "metadata": {
    "application/vnd.databricks.v1+cell": {
     "cellMetadata": {
      "byteLimit": 2048000,
      "rowLimit": 10000
     },
     "inputWidgets": {},
     "nuid": "8dfa0900-aee5-4fab-af86-714583b19e94",
     "showTitle": false,
     "tableResultSettingsMap": {},
     "title": ""
    }
   },
   "outputs": [],
   "source": [
    "df_transformed = fillna_str(df_transformed, r\"\\N\")\n",
    "\n",
    "df_transformed.display()  if env == \"dev\" else None"
   ]
  },
  {
   "cell_type": "code",
   "execution_count": 0,
   "metadata": {
    "application/vnd.databricks.v1+cell": {
     "cellMetadata": {
      "byteLimit": 2048000,
      "rowLimit": 10000
     },
     "inputWidgets": {},
     "nuid": "9d82856b-f9a6-4e4e-a67d-0760eda4a14e",
     "showTitle": false,
     "tableResultSettingsMap": {},
     "title": ""
    }
   },
   "outputs": [],
   "source": [
    "df_transformed = (\n",
    "    df_transformed\n",
    "    .withColumn(\"number\", F.col(\"number\").cast(\"integer\"))\n",
    "    .withColumn(\"position\", F.col(\"position\").cast(\"integer\"))\n",
    "    .withColumn(\"milliseconds\", F.col(\"milliseconds\").cast(\"integer\"))\n",
    "    .withColumn(\"fastest_lap\", F.col(\"fastest_lap\").cast(\"integer\"))\n",
    "    .withColumn(\"rank\", F.col(\"rank\").cast(\"integer\"))\n",
    "    .withColumn(\"points\", F.col(\"points\").cast(\"integer\"))\n",
    "    .withColumn(\"fastest_lap_speed\", F.col(\"fastest_lap_speed\").cast(\"float\"))\n",
    ")\n",
    "\n",
    "df_transformed.display()  if env == \"dev\" else None"
   ]
  },
  {
   "cell_type": "code",
   "execution_count": 0,
   "metadata": {
    "application/vnd.databricks.v1+cell": {
     "cellMetadata": {
      "byteLimit": 2048000,
      "rowLimit": 10000
     },
     "inputWidgets": {},
     "nuid": "015dd2f4-4bd5-4776-883f-037bcbd93874",
     "showTitle": false,
     "tableResultSettingsMap": {},
     "title": ""
    }
   },
   "outputs": [],
   "source": [
    "df_transformed.write.format(\"delta\").saveAsTable(\"bronze_tbl_results\", mode=\"overwrite\")"
   ]
  }
 ],
 "metadata": {
  "application/vnd.databricks.v1+notebook": {
   "computePreferences": null,
   "dashboards": [],
   "environmentMetadata": {
    "base_environment": "",
    "environment_version": "1"
   },
   "inputWidgetPreferences": null,
   "language": "python",
   "notebookMetadata": {
    "mostRecentlyExecutedCommandWithImplicitDF": {
     "commandId": 6276878124565161,
     "dataframes": [
      "_sqldf"
     ]
    },
    "pythonIndentUnit": 4
   },
   "notebookName": "5. Ingest Results File",
   "widgets": {
    "env": {
     "currentValue": "dev",
     "nuid": "3c1d5b86-f7c9-48d7-929d-69207999a01d",
     "typedWidgetInfo": {
      "autoCreated": false,
      "defaultValue": "dev",
      "label": "Environment",
      "name": "env",
      "options": {
       "widgetDisplayType": "Text",
       "validationRegex": null
      },
      "parameterDataType": "String"
     },
     "widgetInfo": {
      "widgetType": "text",
      "defaultValue": "dev",
      "label": "Environment",
      "name": "env",
      "options": {
       "widgetType": "text",
       "autoCreated": null,
       "validationRegex": null
      }
     }
    }
   }
  },
  "language_info": {
   "name": "python"
  }
 },
 "nbformat": 4,
 "nbformat_minor": 0
}
