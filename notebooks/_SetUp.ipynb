{
 "cells": [
  {
   "cell_type": "code",
   "execution_count": 0,
   "metadata": {
    "application/vnd.databricks.v1+cell": {
     "cellMetadata": {
      "byteLimit": 2048000,
      "rowLimit": 10000
     },
     "inputWidgets": {},
     "nuid": "55a555a0-f988-42a7-a129-71edb9bc0a70",
     "showTitle": false,
     "tableResultSettingsMap": {},
     "title": ""
    }
   },
   "outputs": [],
   "source": [
    "from typing import Any\n",
    "from types import NoneType\n",
    "\n",
    "from dbruntime.dbutils import FileInfo\n",
    "\n",
    "\n",
    "class SessionHelper:\n",
    "    _instance = None\n",
    "\n",
    "    def __new__(cls, *args, **kwargs):\n",
    "        if not cls._instance:\n",
    "            cls._instance = super(SessionHelper, cls).__new__(cls)\n",
    "        return cls._instance\n",
    "    \n",
    "    def __init__(self):\n",
    "        self.storage_account_name = \"catalogstorage33452\"\n",
    "        self.storage_container_name = \"f1-project\"\n",
    "        self._set_storage_access_key()\n",
    "        self._initialize_catalog()\n",
    "        print(\"Session succesfully initialized!\")\n",
    "\n",
    "    def _initialize_catalog(self):\n",
    "        spark.sql(\"CREATE CATALOG IF NOT EXISTS F1\")\n",
    "        spark.sql(\"USE CATALOG F1\")\n",
    "        spark.sql(\"CREATE DATABASE IF NOT EXISTS dev\")\n",
    "        spark.sql(\"CREATE DATABASE IF NOT EXISTS test\")\n",
    "        spark.sql(\"CREATE DATABASE IF NOT EXISTS prod\")\n",
    "\n",
    "    def _set_storage_access_key(self) -> None:\n",
    "        storage_account_key = dbutils.secrets.get(\n",
    "            scope=\"f1-project-secrets\", key=\"f1-storage-access-key\"\n",
    "        )\n",
    "        spark.conf.set(\n",
    "            f\"fs.azure.account.key.{self.storage_account_name}.dfs.core.windows.net\",\n",
    "            storage_account_key,\n",
    "        )\n",
    "\n",
    "    def get_storage_account_url(self, folder: str | NoneType = None, file: str | NoneType = None) -> str:\n",
    "        folder = folder if folder is not None else \"\"\n",
    "        file = \"/\" + file if file is not None else \"\"\n",
    "        storage_account_url = f\"abfss://{self.storage_container_name}@{self.storage_account_name}.dfs.core.windows.net/\"\n",
    "        return storage_account_url + folder + file\n",
    "\n",
    "    def get_storage_account_files(\n",
    "        self, folder: str | NoneType = None\n",
    "    ) -> list[FileInfo]:\n",
    "        storage_account_url = self.get_storage_account_url(folder)\n",
    "        return dbutils.fs.ls(storage_account_url)\n",
    "\n",
    "\n",
    "session_helper = SessionHelper()"
   ]
  }
 ],
 "metadata": {
  "application/vnd.databricks.v1+notebook": {
   "computePreferences": null,
   "dashboards": [],
   "environmentMetadata": {
    "base_environment": "",
    "environment_version": "1"
   },
   "inputWidgetPreferences": null,
   "language": "python",
   "notebookMetadata": {
    "mostRecentlyExecutedCommandWithImplicitDF": {
     "commandId": 2655448211247962,
     "dataframes": [
      "_sqldf"
     ]
    },
    "pythonIndentUnit": 4
   },
   "notebookName": "_SetUp",
   "widgets": {}
  },
  "language_info": {
   "name": "python"
  }
 },
 "nbformat": 4,
 "nbformat_minor": 0
}
