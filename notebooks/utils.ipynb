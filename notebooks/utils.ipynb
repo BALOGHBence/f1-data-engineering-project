{
 "cells": [
  {
   "cell_type": "code",
   "execution_count": 0,
   "metadata": {
    "application/vnd.databricks.v1+cell": {
     "cellMetadata": {
      "byteLimit": 2048000,
      "rowLimit": 10000
     },
     "inputWidgets": {},
     "nuid": "1eeff4bb-53fe-4856-bf2a-a9b6fcadfde7",
     "showTitle": false,
     "tableResultSettingsMap": {},
     "title": ""
    }
   },
   "outputs": [],
   "source": [
    "from pyspark.sql import DataFrame, functions as F\n",
    "\n",
    "\n",
    "def fillna_str(df: DataFrame, text: str = r\"\\N\") -> DataFrame:\n",
    "    string_cols = [f.name for f in df.schema.fields if f.dataType.simpleString() == 'string']\n",
    "    \n",
    "    for c in string_cols:\n",
    "        df = df.withColumn(c, F.when(F.col(c) == r\"\\N\", None).otherwise(F.col(c)))\n",
    "\n",
    "    return df"
   ]
  }
 ],
 "metadata": {
  "application/vnd.databricks.v1+notebook": {
   "computePreferences": null,
   "dashboards": [],
   "environmentMetadata": {
    "base_environment": "",
    "environment_version": "2"
   },
   "inputWidgetPreferences": null,
   "language": "python",
   "notebookMetadata": {
    "pythonIndentUnit": 4
   },
   "notebookName": "utils",
   "widgets": {}
  },
  "language_info": {
   "name": "python"
  }
 },
 "nbformat": 4,
 "nbformat_minor": 0
}
