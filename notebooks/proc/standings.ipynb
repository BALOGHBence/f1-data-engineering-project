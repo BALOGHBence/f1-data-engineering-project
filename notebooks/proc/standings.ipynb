{
 "cells": [
  {
   "cell_type": "code",
   "execution_count": 0,
   "metadata": {
    "application/vnd.databricks.v1+cell": {
     "cellMetadata": {
      "byteLimit": 2048000,
      "rowLimit": 10000
     },
     "inputWidgets": {},
     "nuid": "7607e958-e771-4623-9df0-e902ec43114d",
     "showTitle": false,
     "tableResultSettingsMap": {},
     "title": ""
    }
   },
   "outputs": [],
   "source": [
    "dbutils.widgets.text(\"env\", \"dev\", \"Environment\")\n",
    "\n",
    "env = dbutils.widgets.get(\"env\")"
   ]
  },
  {
   "cell_type": "code",
   "execution_count": 0,
   "metadata": {
    "application/vnd.databricks.v1+cell": {
     "cellMetadata": {
      "byteLimit": 2048000,
      "rowLimit": 10000
     },
     "inputWidgets": {},
     "nuid": "20d0d070-16ae-4faa-be2c-34652d255037",
     "showTitle": false,
     "tableResultSettingsMap": {},
     "title": ""
    },
    "jupyter": {
     "outputs_hidden": true
    }
   },
   "outputs": [],
   "source": [
    "%run ../config $env=$env"
   ]
  },
  {
   "cell_type": "code",
   "execution_count": 0,
   "metadata": {
    "application/vnd.databricks.v1+cell": {
     "cellMetadata": {
      "byteLimit": 2048000,
      "rowLimit": 10000
     },
     "inputWidgets": {},
     "nuid": "572d78d9-a851-4390-8f73-207f1329dc20",
     "showTitle": false,
     "tableResultSettingsMap": {},
     "title": ""
    }
   },
   "outputs": [],
   "source": [
    "from pyspark.sql import functions as F"
   ]
  },
  {
   "cell_type": "code",
   "execution_count": 0,
   "metadata": {
    "application/vnd.databricks.v1+cell": {
     "cellMetadata": {
      "byteLimit": 2048000,
      "rowLimit": 10000
     },
     "inputWidgets": {},
     "nuid": "963bc78f-622f-4f8d-a9f8-d8e3acc4e20e",
     "showTitle": false,
     "tableResultSettingsMap": {},
     "title": ""
    }
   },
   "outputs": [],
   "source": [
    "df_drivers = (\n",
    "    spark.sql(\"SELECT * FROM bronze_tbl_drivers\")\n",
    "    .select(\"driver_id\", F.col(\"code\").alias(\"driver_code\"))\n",
    ")\n",
    "\n",
    "display(df_drivers.limit(2)) if env == \"dev\" else None"
   ]
  },
  {
   "cell_type": "code",
   "execution_count": 0,
   "metadata": {
    "application/vnd.databricks.v1+cell": {
     "cellMetadata": {
      "byteLimit": 2048000,
      "rowLimit": 10000
     },
     "inputWidgets": {},
     "nuid": "767fb845-c3db-4e13-9712-6a4bc6a553b2",
     "showTitle": false,
     "tableResultSettingsMap": {},
     "title": ""
    }
   },
   "outputs": [],
   "source": [
    "df_constructors = (\n",
    "    spark.sql(\"SELECT * FROM bronze_tbl_constructors\")\n",
    "    .select(\"constructor_id\", F.col(\"name\").alias(\"constructor_name\"))\n",
    ")\n",
    "\n",
    "display(df_constructors.limit(2)) if env == \"dev\" else None"
   ]
  },
  {
   "cell_type": "code",
   "execution_count": 0,
   "metadata": {
    "application/vnd.databricks.v1+cell": {
     "cellMetadata": {
      "byteLimit": 2048000,
      "rowLimit": 10000
     },
     "inputWidgets": {},
     "nuid": "1cd4f9cb-1ff4-4203-8802-480362aaa267",
     "showTitle": false,
     "tableResultSettingsMap": {},
     "title": ""
    }
   },
   "outputs": [],
   "source": [
    "df_races = (\n",
    "    spark.sql(\"SELECT * FROM bronze_tbl_races\")\n",
    "    .select(\"race_id\", \"year\")\n",
    ")\n",
    "\n",
    "display(df_races.limit(2)) if env == \"dev\" else None"
   ]
  },
  {
   "cell_type": "code",
   "execution_count": 0,
   "metadata": {
    "application/vnd.databricks.v1+cell": {
     "cellMetadata": {
      "byteLimit": 2048000,
      "rowLimit": 10000
     },
     "inputWidgets": {},
     "nuid": "fb77199a-eee1-4651-8960-3da1e3838406",
     "showTitle": false,
     "tableResultSettingsMap": {},
     "title": ""
    }
   },
   "outputs": [],
   "source": [
    "df_results = (\n",
    "    spark.sql(\"SELECT * FROM bronze_tbl_results\")\n",
    "    .select(\"race_id\", \"constructor_id\", \"driver_id\", \"points\")\n",
    ")\n",
    "\n",
    "display(df_results.limit(2)) if env == \"dev\" else None"
   ]
  },
  {
   "cell_type": "code",
   "execution_count": 0,
   "metadata": {
    "application/vnd.databricks.v1+cell": {
     "cellMetadata": {
      "byteLimit": 2048000,
      "rowLimit": 10000
     },
     "inputWidgets": {},
     "nuid": "c7940490-d459-4f54-ac4f-3b2014a67f4a",
     "showTitle": false,
     "tableResultSettingsMap": {},
     "title": ""
    }
   },
   "outputs": [],
   "source": [
    "df = (\n",
    "    df_races\n",
    "    .join(df_results, on=\"race_id\", how=\"inner\")\n",
    "    .join(df_drivers, on=\"driver_id\", how=\"inner\")\n",
    "    .join(df_constructors, on=\"constructor_id\", how=\"inner\")\n",
    "    .drop(\"driver_id\", \"constructor_id\")\n",
    "    .withColumnRenamed(\"driver_code\", \"driver\")\n",
    "    .withColumnRenamed(\"constructor_name\", \"constructor\")\n",
    ")\n",
    "\n",
    "display(df.limit(2)) if env == \"dev\" else None"
   ]
  },
  {
   "cell_type": "code",
   "execution_count": 0,
   "metadata": {
    "application/vnd.databricks.v1+cell": {
     "cellMetadata": {
      "byteLimit": 2048000,
      "rowLimit": 10000
     },
     "inputWidgets": {},
     "nuid": "e4e07bac-a923-4007-af63-776c415039db",
     "showTitle": false,
     "tableResultSettingsMap": {},
     "title": ""
    }
   },
   "outputs": [],
   "source": [
    "df_driver_standings = (\n",
    "    df\n",
    "    .select(\"year\", \"driver\", \"points\")\n",
    "    .groupBy(\"year\", \"driver\")\n",
    "    .agg(F.sum(\"points\").alias(\"points\"))\n",
    "    .orderBy(F.desc(\"year\"), F.desc(\"points\"))\n",
    ")\n",
    "\n",
    "df_driver_standings.display()"
   ]
  },
  {
   "cell_type": "code",
   "execution_count": 0,
   "metadata": {
    "application/vnd.databricks.v1+cell": {
     "cellMetadata": {
      "byteLimit": 2048000,
      "rowLimit": 10000
     },
     "inputWidgets": {},
     "nuid": "642f0f32-6f19-4f72-b49e-4ffc3b5c9de4",
     "showTitle": false,
     "tableResultSettingsMap": {},
     "title": ""
    }
   },
   "outputs": [],
   "source": [
    "df_constructor_standings = (\n",
    "    df\n",
    "    .select(\"year\", \"constructor\", \"points\")\n",
    "    .groupBy(\"year\", \"constructor\")\n",
    "    .agg(F.sum(\"points\").alias(\"points\"))\n",
    "    .orderBy(F.desc(\"year\"), F.desc(\"points\"))\n",
    ")\n",
    "\n",
    "df_constructor_standings.display()"
   ]
  },
  {
   "cell_type": "code",
   "execution_count": 0,
   "metadata": {
    "application/vnd.databricks.v1+cell": {
     "cellMetadata": {
      "byteLimit": 2048000,
      "rowLimit": 10000
     },
     "inputWidgets": {},
     "nuid": "c9ba2d0b-b2ac-4584-a5c2-5901c0b50c5e",
     "showTitle": false,
     "tableResultSettingsMap": {},
     "title": ""
    }
   },
   "outputs": [],
   "source": [
    "#df_driver_standings.write.format(\"delta\").saveAsTable(\"gold_tbl_driver_standings\", mode=\"overwrite\")"
   ]
  }
 ],
 "metadata": {
  "application/vnd.databricks.v1+notebook": {
   "computePreferences": null,
   "dashboards": [],
   "environmentMetadata": {
    "base_environment": "",
    "environment_version": "2"
   },
   "inputWidgetPreferences": null,
   "language": "python",
   "notebookMetadata": {
    "pythonIndentUnit": 4
   },
   "notebookName": "standings",
   "widgets": {
    "env": {
     "currentValue": "dev",
     "nuid": "c3fda2e4-8631-49bb-ac2b-08d63e06e94a",
     "typedWidgetInfo": {
      "autoCreated": false,
      "defaultValue": "dev",
      "label": "Environment",
      "name": "env",
      "options": {
       "widgetDisplayType": "Text",
       "validationRegex": null
      },
      "parameterDataType": "String"
     },
     "widgetInfo": {
      "widgetType": "text",
      "defaultValue": "dev",
      "label": "Environment",
      "name": "env",
      "options": {
       "widgetType": "text",
       "autoCreated": null,
       "validationRegex": null
      }
     }
    }
   }
  },
  "language_info": {
   "name": "python"
  }
 },
 "nbformat": 4,
 "nbformat_minor": 0
}
