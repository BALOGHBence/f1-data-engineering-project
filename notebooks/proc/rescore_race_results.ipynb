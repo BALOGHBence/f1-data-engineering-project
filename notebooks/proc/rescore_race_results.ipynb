{
 "cells": [
  {
   "cell_type": "markdown",
   "metadata": {
    "application/vnd.databricks.v1+cell": {
     "cellMetadata": {},
     "inputWidgets": {},
     "nuid": "758befbf-a7ab-48dd-866d-bb8727c42bc4",
     "showTitle": false,
     "tableResultSettingsMap": {},
     "title": ""
    }
   },
   "source": [
    "# Rescore race results\n",
    "\n",
    "The points system had several changes over the years and the one they used in the 70's is not the same used tuday. In order to be able to compare performance across the different periods, we need to rescore the races according to a particular points system.\n",
    "\n",
    "Points are given for drivers finishing in the top 10, according to the following list:\n",
    "[25, 18, 15, 12, 10, 8, 6, 4, 2, 1]\n",
    "\n",
    "Notice that with this system, a team can achieve a maxiumum of 44 points per race. This information can be used as a data quality constraint."
   ]
  },
  {
   "cell_type": "code",
   "execution_count": 0,
   "metadata": {
    "application/vnd.databricks.v1+cell": {
     "cellMetadata": {},
     "inputWidgets": {},
     "nuid": "23263cbd-8f09-4b30-a397-7c2c467860f5",
     "showTitle": false,
     "tableResultSettingsMap": {},
     "title": ""
    }
   },
   "outputs": [],
   "source": []
  }
 ],
 "metadata": {
  "application/vnd.databricks.v1+notebook": {
   "computePreferences": null,
   "dashboards": [],
   "environmentMetadata": {
    "base_environment": "",
    "environment_version": "1"
   },
   "inputWidgetPreferences": null,
   "language": "python",
   "notebookMetadata": {
    "pythonIndentUnit": 4
   },
   "notebookName": "rescore_race_results",
   "widgets": {}
  },
  "language_info": {
   "name": "python"
  }
 },
 "nbformat": 4,
 "nbformat_minor": 0
}
