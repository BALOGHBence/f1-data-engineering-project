{
 "cells": [
  {
   "cell_type": "markdown",
   "metadata": {
    "application/vnd.databricks.v1+cell": {
     "cellMetadata": {
      "byteLimit": 2048000,
      "rowLimit": 10000
     },
     "inputWidgets": {},
     "nuid": "163becbd-70f9-4114-a895-dbf6f76e770f",
     "showTitle": false,
     "tableResultSettingsMap": {},
     "title": ""
    }
   },
   "source": [
    "# Ingest race results data"
   ]
  },
  {
   "cell_type": "code",
   "execution_count": 0,
   "metadata": {
    "application/vnd.databricks.v1+cell": {
     "cellMetadata": {
      "byteLimit": 2048000,
      "rowLimit": 10000
     },
     "inputWidgets": {},
     "nuid": "9c187ce6-0c44-4b78-8d41-f2707bb89dd8",
     "showTitle": false,
     "tableResultSettingsMap": {},
     "title": ""
    }
   },
   "outputs": [],
   "source": [
    "%run ../SetUp"
   ]
  },
  {
   "cell_type": "code",
   "execution_count": 0,
   "metadata": {
    "application/vnd.databricks.v1+cell": {
     "cellMetadata": {
      "byteLimit": 2048000,
      "rowLimit": 10000
     },
     "inputWidgets": {},
     "nuid": "10c0a412-f181-4ece-8fdc-7b1f4f1750f3",
     "showTitle": false,
     "tableResultSettingsMap": {},
     "title": ""
    }
   },
   "outputs": [],
   "source": [
    "json_file_path = session_helper.get_storage_account_url(folder=\"raw\", file=\"results.json\")\n",
    "\n",
    "results_df = (\n",
    "    spark.read\n",
    "    .format(\"json\")\n",
    "    .option(\"inferSchema\", True)\n",
    "    .load(json_file_path)\n",
    ")\n",
    "\n",
    "#results_df.display()"
   ]
  },
  {
   "cell_type": "code",
   "execution_count": 0,
   "metadata": {
    "application/vnd.databricks.v1+cell": {
     "cellMetadata": {
      "byteLimit": 2048000,
      "rowLimit": 10000
     },
     "inputWidgets": {},
     "nuid": "5526f9d6-8aa0-4e6d-a632-7787901d6b5f",
     "showTitle": false,
     "tableResultSettingsMap": {},
     "title": ""
    }
   },
   "outputs": [],
   "source": [
    "import pyspark.sql.functions as F\n",
    "\n",
    "transformed_results_df = (\n",
    "    results_df\n",
    "    .withColumnRenamed(\"raceId\", \"race_id\")\n",
    "    .withColumnRenamed(\"resultId\", \"result_id\")\n",
    "    .withColumnRenamed(\"driverId\", \"driver_id\")\n",
    "    .withColumnRenamed(\"constructorId\", \"constructor_id\")\n",
    "    .withColumnRenamed(\"fastestLap\", \"fastest_lap\")\n",
    "    .withColumnRenamed(\"fastestLapSpeed\", \"fastest_lap_speed\")\n",
    "    .withColumnRenamed(\"fastestLapTime\", \"fastest_lap_time\")\n",
    "    .withColumnRenamed(\"positionOrder\", \"position_order\")\n",
    "    .withColumnRenamed(\"positionText\", \"position_text\")\n",
    "    .withColumn(\"ingestion_date\", F.current_timestamp())\n",
    "    .drop(\"statusId\")\n",
    ")\n",
    "\n",
    "#transformed_results_df.display()"
   ]
  },
  {
   "cell_type": "code",
   "execution_count": 0,
   "metadata": {
    "application/vnd.databricks.v1+cell": {
     "cellMetadata": {
      "byteLimit": 2048000,
      "rowLimit": 10000
     },
     "inputWidgets": {},
     "nuid": "015dd2f4-4bd5-4776-883f-037bcbd93874",
     "showTitle": false,
     "tableResultSettingsMap": {},
     "title": ""
    }
   },
   "outputs": [],
   "source": [
    "spark.sql(\"DROP TABLE IF EXISTS dev.results_bronze\")\n",
    "transformed_results_df.write.format(\"delta\").saveAsTable(\"dev.results_bronze\", mode=\"overwrite\")"
   ]
  }
 ],
 "metadata": {
  "application/vnd.databricks.v1+notebook": {
   "computePreferences": null,
   "dashboards": [],
   "environmentMetadata": {
    "base_environment": "",
    "environment_version": "1"
   },
   "inputWidgetPreferences": null,
   "language": "python",
   "notebookMetadata": {
    "mostRecentlyExecutedCommandWithImplicitDF": {
     "commandId": 6276878124565161,
     "dataframes": [
      "_sqldf"
     ]
    },
    "pythonIndentUnit": 4
   },
   "notebookName": "5. Ingest Results File",
   "widgets": {}
  },
  "language_info": {
   "name": "python"
  }
 },
 "nbformat": 4,
 "nbformat_minor": 0
}
