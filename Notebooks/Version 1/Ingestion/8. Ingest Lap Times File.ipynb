{
 "cells": [
  {
   "cell_type": "markdown",
   "metadata": {
    "application/vnd.databricks.v1+cell": {
     "cellMetadata": {
      "byteLimit": 2048000,
      "rowLimit": 10000
     },
     "inputWidgets": {},
     "nuid": "163becbd-70f9-4114-a895-dbf6f76e770f",
     "showTitle": false,
     "tableResultSettingsMap": {},
     "title": ""
    }
   },
   "source": [
    "# Ingest lap times data"
   ]
  },
  {
   "cell_type": "code",
   "execution_count": 0,
   "metadata": {
    "application/vnd.databricks.v1+cell": {
     "cellMetadata": {
      "byteLimit": 2048000,
      "rowLimit": 10000
     },
     "inputWidgets": {},
     "nuid": "9c187ce6-0c44-4b78-8d41-f2707bb89dd8",
     "showTitle": false,
     "tableResultSettingsMap": {},
     "title": ""
    }
   },
   "outputs": [],
   "source": [
    "%run ../SetUp"
   ]
  },
  {
   "cell_type": "markdown",
   "metadata": {
    "application/vnd.databricks.v1+cell": {
     "cellMetadata": {
      "byteLimit": 2048000,
      "rowLimit": 10000
     },
     "inputWidgets": {},
     "nuid": "1d149d34-1267-424b-b04f-fa1561064a5d",
     "showTitle": false,
     "tableResultSettingsMap": {},
     "title": ""
    }
   },
   "source": [
    "lap_times table\n",
    "| Field        | Type         | Null | Key | Default | Extra | Description                       |\n",
    "|--------------|--------------|------|-----|---------|-------|-----------------------------------|\n",
    "| raceId       | int(11)      | NO   | PRI | NULL    |       | Foreign key link to races table   |\n",
    "| driverId     | int(11)      | NO   | PRI | NULL    |       | Foreign key link to drivers table |\n",
    "| lap          | int(11)      | NO   | PRI | NULL    |       | Lap number                        |\n",
    "| position     | int(11)      | YES  |     | NULL    |       | Driver race position              |\n",
    "| time         | varchar(255) | YES  |     | NULL    |       | Lap time e.g. \"1:43.762\"          |\n",
    "| milliseconds | int(11)      | YES  |     | NULL    |       | Lap time in milliseconds          |\n"
   ]
  },
  {
   "cell_type": "code",
   "execution_count": 0,
   "metadata": {
    "application/vnd.databricks.v1+cell": {
     "cellMetadata": {
      "byteLimit": 2048000,
      "rowLimit": 10000
     },
     "inputWidgets": {},
     "nuid": "10c0a412-f181-4ece-8fdc-7b1f4f1750f3",
     "showTitle": false,
     "tableResultSettingsMap": {},
     "title": ""
    }
   },
   "outputs": [],
   "source": [
    "from pyspark.sql.functions import current_timestamp\n",
    "from pyspark.sql.types import StructType, StructField, IntegerType, StringType\n",
    "\n",
    "csv_file_path = session_helper.get_storage_account_url(folder=\"raw/lap_times\")\n",
    "\n",
    "lap_times_schema = StructType([\n",
    "    StructField(\"raceId\", IntegerType(), nullable=False),\n",
    "    StructField(\"driverId\", IntegerType(), nullable=False),\n",
    "    StructField(\"lap\", IntegerType(), nullable=False),\n",
    "    StructField(\"position\", IntegerType(), nullable=True),\n",
    "    StructField(\"time\", StringType(), nullable=True),\n",
    "    StructField(\"milliseconds\", IntegerType(), nullable=True)\n",
    "])\n",
    "\n",
    "lap_times_df = (\n",
    "    spark.read\n",
    "    .format(\"csv\")\n",
    "    .option(\"header\", False)\n",
    "    .option(\"inferSchema\", False)\n",
    "    .schema(lap_times_schema)\n",
    "    .load(csv_file_path)\n",
    ")\n",
    "\n",
    "#lap_times_df.display()"
   ]
  },
  {
   "cell_type": "code",
   "execution_count": 0,
   "metadata": {
    "application/vnd.databricks.v1+cell": {
     "cellMetadata": {
      "byteLimit": 2048000,
      "rowLimit": 10000
     },
     "inputWidgets": {},
     "nuid": "5526f9d6-8aa0-4e6d-a632-7787901d6b5f",
     "showTitle": false,
     "tableResultSettingsMap": {},
     "title": ""
    }
   },
   "outputs": [],
   "source": [
    "import pyspark.sql.functions as F\n",
    "\n",
    "transformed_lap_times_df = (\n",
    "    lap_times_df\n",
    "    .withColumnRenamed(\"driverId\", \"driver_id\")\n",
    "    .withColumnRenamed(\"raceId\", \"race_id\")\n",
    "    .withColumn(\"ingestion_date\", F.current_timestamp())\n",
    ")\n",
    "\n",
    "#transformed_lap_times_df.display()"
   ]
  },
  {
   "cell_type": "code",
   "execution_count": 0,
   "metadata": {
    "application/vnd.databricks.v1+cell": {
     "cellMetadata": {
      "byteLimit": 2048000,
      "rowLimit": 10000
     },
     "inputWidgets": {},
     "nuid": "015dd2f4-4bd5-4776-883f-037bcbd93874",
     "showTitle": false,
     "tableResultSettingsMap": {},
     "title": ""
    }
   },
   "outputs": [],
   "source": [
    "spark.sql(\"DROP TABLE IF EXISTS dev.lap_times_bronze\")\n",
    "transformed_lap_times_df.write.format(\"delta\").saveAsTable(\"dev.lap_times_bronze\", mode=\"overwrite\")"
   ]
  }
 ],
 "metadata": {
  "application/vnd.databricks.v1+notebook": {
   "computePreferences": null,
   "dashboards": [],
   "environmentMetadata": {
    "base_environment": "",
    "client": "1"
   },
   "language": "python",
   "notebookMetadata": {
    "mostRecentlyExecutedCommandWithImplicitDF": {
     "commandId": 6276878124565161,
     "dataframes": [
      "_sqldf"
     ]
    },
    "pythonIndentUnit": 4
   },
   "notebookName": "8. Ingest Lap Times File",
   "widgets": {}
  },
  "language_info": {
   "name": "python"
  }
 },
 "nbformat": 4,
 "nbformat_minor": 0
}
