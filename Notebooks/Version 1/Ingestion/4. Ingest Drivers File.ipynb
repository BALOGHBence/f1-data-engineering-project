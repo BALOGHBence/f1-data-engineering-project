{
 "cells": [
  {
   "cell_type": "markdown",
   "metadata": {
    "application/vnd.databricks.v1+cell": {
     "cellMetadata": {
      "byteLimit": 2048000,
      "rowLimit": 10000
     },
     "inputWidgets": {},
     "nuid": "163becbd-70f9-4114-a895-dbf6f76e770f",
     "showTitle": false,
     "tableResultSettingsMap": {},
     "title": ""
    }
   },
   "source": [
    "# Ingest drivers data"
   ]
  },
  {
   "cell_type": "code",
   "execution_count": 0,
   "metadata": {
    "application/vnd.databricks.v1+cell": {
     "cellMetadata": {
      "byteLimit": 2048000,
      "rowLimit": 10000
     },
     "inputWidgets": {},
     "nuid": "9c187ce6-0c44-4b78-8d41-f2707bb89dd8",
     "showTitle": false,
     "tableResultSettingsMap": {},
     "title": ""
    }
   },
   "outputs": [],
   "source": [
    "%run ../SetUp"
   ]
  },
  {
   "cell_type": "code",
   "execution_count": 0,
   "metadata": {
    "application/vnd.databricks.v1+cell": {
     "cellMetadata": {
      "byteLimit": 2048000,
      "rowLimit": 10000
     },
     "inputWidgets": {},
     "nuid": "10c0a412-f181-4ece-8fdc-7b1f4f1750f3",
     "showTitle": false,
     "tableResultSettingsMap": {},
     "title": ""
    }
   },
   "outputs": [],
   "source": [
    "json_file_path = session_helper.get_storage_account_url(folder=\"raw\", file=\"drivers.json\")\n",
    "\n",
    "drivers_df = (\n",
    "    spark.read\n",
    "    .format(\"json\")\n",
    "    .option(\"inferSchema\", True)\n",
    "    .load(json_file_path)\n",
    ")\n",
    "\n",
    "drivers_df.display()"
   ]
  },
  {
   "cell_type": "code",
   "execution_count": 0,
   "metadata": {
    "application/vnd.databricks.v1+cell": {
     "cellMetadata": {
      "byteLimit": 2048000,
      "rowLimit": 10000
     },
     "inputWidgets": {},
     "nuid": "5526f9d6-8aa0-4e6d-a632-7787901d6b5f",
     "showTitle": false,
     "tableResultSettingsMap": {},
     "title": ""
    }
   },
   "outputs": [],
   "source": [
    "import pyspark.sql.functions as F\n",
    "\n",
    "transformed_drivers_df = (\n",
    "    drivers_df\n",
    "    .withColumnRenamed(\"driverId\", \"driver_id\")\n",
    "    .withColumnRenamed(\"driverRef\", \"driver_ref\")\n",
    "    .withColumn(\"ingestion_date\", F.current_timestamp())\n",
    "    .withColumn(\"full_name\", F.concat(F.col(\"name.forename\"), F.lit(\" \"), F.col(\"name.surname\")))\n",
    "    .drop(\"url\", \"name\")\n",
    "    .withColumnRenamed(\"full_name\", \"name\")\n",
    ")\n",
    "\n",
    "transformed_drivers_df.display()"
   ]
  },
  {
   "cell_type": "code",
   "execution_count": 0,
   "metadata": {
    "application/vnd.databricks.v1+cell": {
     "cellMetadata": {
      "byteLimit": 2048000,
      "rowLimit": 10000
     },
     "inputWidgets": {},
     "nuid": "015dd2f4-4bd5-4776-883f-037bcbd93874",
     "showTitle": false,
     "tableResultSettingsMap": {},
     "title": ""
    }
   },
   "outputs": [],
   "source": [
    "spark.sql(\"DROP TABLE IF EXISTS dev.drivers_bronze\")\n",
    "transformed_drivers_df.write.format(\"delta\").saveAsTable(\"dev.drivers_bronze\", mode=\"overwrite\")"
   ]
  }
 ],
 "metadata": {
  "application/vnd.databricks.v1+notebook": {
   "computePreferences": null,
   "dashboards": [],
   "environmentMetadata": {
    "base_environment": "",
    "environment_version": "1"
   },
   "inputWidgetPreferences": null,
   "language": "python",
   "notebookMetadata": {
    "mostRecentlyExecutedCommandWithImplicitDF": {
     "commandId": 6276878124565161,
     "dataframes": [
      "_sqldf"
     ]
    },
    "pythonIndentUnit": 4
   },
   "notebookName": "4. Ingest Drivers File",
   "widgets": {}
  },
  "language_info": {
   "name": "python"
  }
 },
 "nbformat": 4,
 "nbformat_minor": 0
}
